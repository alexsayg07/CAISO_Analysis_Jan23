{
 "cells": [
  {
   "cell_type": "code",
   "execution_count": 9,
   "metadata": {},
   "outputs": [
    {
     "data": {
      "text/html": [
       "<div>\n",
       "<style scoped>\n",
       "    .dataframe tbody tr th:only-of-type {\n",
       "        vertical-align: middle;\n",
       "    }\n",
       "\n",
       "    .dataframe tbody tr th {\n",
       "        vertical-align: top;\n",
       "    }\n",
       "\n",
       "    .dataframe thead th {\n",
       "        text-align: right;\n",
       "    }\n",
       "</style>\n",
       "<table border=\"1\" class=\"dataframe\">\n",
       "  <thead>\n",
       "    <tr style=\"text-align: right;\">\n",
       "      <th></th>\n",
       "      <th>INTERVALSTARTTIME_GMT</th>\n",
       "      <th>INTERVALENDTIME_GMT</th>\n",
       "      <th>OPR_DT</th>\n",
       "      <th>OPR_HR</th>\n",
       "      <th>OPR_INTERVAL</th>\n",
       "      <th>NODE_ID_XML</th>\n",
       "      <th>NODE_ID</th>\n",
       "      <th>NODE</th>\n",
       "      <th>MARKET_RUN_ID</th>\n",
       "      <th>LMP_TYPE</th>\n",
       "      <th>XML_DATA_ITEM</th>\n",
       "      <th>PNODE_RESMRID</th>\n",
       "      <th>GRP_TYPE</th>\n",
       "      <th>POS</th>\n",
       "      <th>MW</th>\n",
       "      <th>GROUP</th>\n",
       "    </tr>\n",
       "  </thead>\n",
       "  <tbody>\n",
       "    <tr>\n",
       "      <th>0</th>\n",
       "      <td>2023-01-02T02:00:00-00:00</td>\n",
       "      <td>2023-01-02T03:00:00-00:00</td>\n",
       "      <td>2023-01-01</td>\n",
       "      <td>19</td>\n",
       "      <td>0</td>\n",
       "      <td>0096WD_7_N001</td>\n",
       "      <td>0096WD_7_N001</td>\n",
       "      <td>0096WD_7_N001</td>\n",
       "      <td>DAM</td>\n",
       "      <td>LMP</td>\n",
       "      <td>LMP_PRC</td>\n",
       "      <td>0096WD_7_N001</td>\n",
       "      <td>ALL</td>\n",
       "      <td>1</td>\n",
       "      <td>149.33041</td>\n",
       "      <td>1</td>\n",
       "    </tr>\n",
       "    <tr>\n",
       "      <th>1</th>\n",
       "      <td>2023-01-02T05:00:00-00:00</td>\n",
       "      <td>2023-01-02T06:00:00-00:00</td>\n",
       "      <td>2023-01-01</td>\n",
       "      <td>22</td>\n",
       "      <td>0</td>\n",
       "      <td>0096WD_7_N001</td>\n",
       "      <td>0096WD_7_N001</td>\n",
       "      <td>0096WD_7_N001</td>\n",
       "      <td>DAM</td>\n",
       "      <td>LMP</td>\n",
       "      <td>LMP_PRC</td>\n",
       "      <td>0096WD_7_N001</td>\n",
       "      <td>ALL</td>\n",
       "      <td>1</td>\n",
       "      <td>145.00000</td>\n",
       "      <td>1</td>\n",
       "    </tr>\n",
       "    <tr>\n",
       "      <th>2</th>\n",
       "      <td>2023-01-01T13:00:00-00:00</td>\n",
       "      <td>2023-01-01T14:00:00-00:00</td>\n",
       "      <td>2023-01-01</td>\n",
       "      <td>6</td>\n",
       "      <td>0</td>\n",
       "      <td>0096WD_7_N001</td>\n",
       "      <td>0096WD_7_N001</td>\n",
       "      <td>0096WD_7_N001</td>\n",
       "      <td>DAM</td>\n",
       "      <td>LMP</td>\n",
       "      <td>LMP_PRC</td>\n",
       "      <td>0096WD_7_N001</td>\n",
       "      <td>ALL</td>\n",
       "      <td>1</td>\n",
       "      <td>111.33543</td>\n",
       "      <td>1</td>\n",
       "    </tr>\n",
       "    <tr>\n",
       "      <th>3</th>\n",
       "      <td>2023-01-02T00:00:00-00:00</td>\n",
       "      <td>2023-01-02T01:00:00-00:00</td>\n",
       "      <td>2023-01-01</td>\n",
       "      <td>17</td>\n",
       "      <td>0</td>\n",
       "      <td>0096WD_7_N001</td>\n",
       "      <td>0096WD_7_N001</td>\n",
       "      <td>0096WD_7_N001</td>\n",
       "      <td>DAM</td>\n",
       "      <td>LMP</td>\n",
       "      <td>LMP_PRC</td>\n",
       "      <td>0096WD_7_N001</td>\n",
       "      <td>ALL</td>\n",
       "      <td>1</td>\n",
       "      <td>139.63030</td>\n",
       "      <td>1</td>\n",
       "    </tr>\n",
       "    <tr>\n",
       "      <th>4</th>\n",
       "      <td>2023-01-01T22:00:00-00:00</td>\n",
       "      <td>2023-01-01T23:00:00-00:00</td>\n",
       "      <td>2023-01-01</td>\n",
       "      <td>15</td>\n",
       "      <td>0</td>\n",
       "      <td>0096WD_7_N001</td>\n",
       "      <td>0096WD_7_N001</td>\n",
       "      <td>0096WD_7_N001</td>\n",
       "      <td>DAM</td>\n",
       "      <td>LMP</td>\n",
       "      <td>LMP_PRC</td>\n",
       "      <td>0096WD_7_N001</td>\n",
       "      <td>ALL</td>\n",
       "      <td>1</td>\n",
       "      <td>55.62719</td>\n",
       "      <td>1</td>\n",
       "    </tr>\n",
       "  </tbody>\n",
       "</table>\n",
       "</div>"
      ],
      "text/plain": [
       "       INTERVALSTARTTIME_GMT        INTERVALENDTIME_GMT      OPR_DT  OPR_HR  \\\n",
       "0  2023-01-02T02:00:00-00:00  2023-01-02T03:00:00-00:00  2023-01-01      19   \n",
       "1  2023-01-02T05:00:00-00:00  2023-01-02T06:00:00-00:00  2023-01-01      22   \n",
       "2  2023-01-01T13:00:00-00:00  2023-01-01T14:00:00-00:00  2023-01-01       6   \n",
       "3  2023-01-02T00:00:00-00:00  2023-01-02T01:00:00-00:00  2023-01-01      17   \n",
       "4  2023-01-01T22:00:00-00:00  2023-01-01T23:00:00-00:00  2023-01-01      15   \n",
       "\n",
       "   OPR_INTERVAL    NODE_ID_XML        NODE_ID           NODE MARKET_RUN_ID  \\\n",
       "0             0  0096WD_7_N001  0096WD_7_N001  0096WD_7_N001           DAM   \n",
       "1             0  0096WD_7_N001  0096WD_7_N001  0096WD_7_N001           DAM   \n",
       "2             0  0096WD_7_N001  0096WD_7_N001  0096WD_7_N001           DAM   \n",
       "3             0  0096WD_7_N001  0096WD_7_N001  0096WD_7_N001           DAM   \n",
       "4             0  0096WD_7_N001  0096WD_7_N001  0096WD_7_N001           DAM   \n",
       "\n",
       "  LMP_TYPE XML_DATA_ITEM  PNODE_RESMRID GRP_TYPE  POS         MW  GROUP  \n",
       "0      LMP       LMP_PRC  0096WD_7_N001      ALL    1  149.33041      1  \n",
       "1      LMP       LMP_PRC  0096WD_7_N001      ALL    1  145.00000      1  \n",
       "2      LMP       LMP_PRC  0096WD_7_N001      ALL    1  111.33543      1  \n",
       "3      LMP       LMP_PRC  0096WD_7_N001      ALL    1  139.63030      1  \n",
       "4      LMP       LMP_PRC  0096WD_7_N001      ALL    1   55.62719      1  "
      ]
     },
     "execution_count": 9,
     "metadata": {},
     "output_type": "execute_result"
    }
   ],
   "source": [
    "import pandas as pd\n",
    "data = pd.read_csv(\"jan23_prices.csv\")\n",
    "data.head()"
   ]
  },
  {
   "cell_type": "code",
   "execution_count": 10,
   "metadata": {},
   "outputs": [],
   "source": [
    "# Convert date columns to datetime format\n",
    "data['INTERVALSTARTTIME_GMT'] = pd.to_datetime(data['INTERVALSTARTTIME_GMT'])\n",
    "data['INTERVALENDTIME_GMT'] = pd.to_datetime(data['INTERVALENDTIME_GMT'])"
   ]
  },
  {
   "cell_type": "code",
   "execution_count": 11,
   "metadata": {},
   "outputs": [],
   "source": [
    "# Rename columns if necessary\n",
    "data.rename(columns={'OPR_DT': 'Operation_Date', 'OPR_HR': 'Operation_Hour', 'MW': 'Price_MWh'}, inplace=True)\n"
   ]
  },
  {
   "cell_type": "code",
   "execution_count": 12,
   "metadata": {},
   "outputs": [],
   "source": [
    "\n",
    "# Extract date components\n",
    "data['Year'] = data['INTERVALSTARTTIME_GMT'].dt.year\n",
    "data['Month'] = data['INTERVALSTARTTIME_GMT'].dt.month\n",
    "data['Day'] = data['INTERVALSTARTTIME_GMT'].dt.day\n",
    "data['Hour'] = data['INTERVALSTARTTIME_GMT'].dt.hour"
   ]
  },
  {
   "cell_type": "code",
   "execution_count": 13,
   "metadata": {},
   "outputs": [],
   "source": [
    "# Example of a rolling average\n",
    "data['Rolling_Avg_Price'] = data['Price_MWh'].rolling(window=24).mean()"
   ]
  },
  {
   "cell_type": "code",
   "execution_count": 14,
   "metadata": {},
   "outputs": [],
   "source": [
    "# Daily average prices\n",
    "daily_avg_prices = data.groupby(data['INTERVALSTARTTIME_GMT'].dt.date)['Price_MWh'].mean().reset_index()\n",
    "daily_avg_prices.rename(columns={'Price_MWh': 'Daily_Avg_Price'}, inplace=True)"
   ]
  },
  {
   "cell_type": "code",
   "execution_count": 16,
   "metadata": {},
   "outputs": [
    {
     "data": {
      "image/png": "[encoded data removed]",
      "text/plain": [
       "<Figure size 1200x600 with 1 Axes>"
      ]
     },
     "metadata": {},
     "output_type": "display_data"
    }
   ],
   "source": [
    "import matplotlib.pyplot as plt\n",
    "import seaborn as sns\n",
    "\n",
    "# Time series plot of daily average prices\n",
    "plt.figure(figsize=(12, 6))\n",
    "sns.lineplot(x='INTERVALSTARTTIME_GMT', y='Daily_Avg_Price', data=daily_avg_prices)\n",
    "plt.title('Daily Average Price Trends')\n",
    "plt.xlabel('Date')\n",
    "plt.ylabel('Price ($/MWh)')\n",
    "plt.show()"
   ]
  }
 ],
 "metadata": {
  "kernelspec": {
   "display_name": "Python 3",
   "language": "python",
   "name": "python3"
  },
  "language_info": {
   "codemirror_mode": {
    "name": "ipython",
    "version": 3
   },
   "file_extension": ".py",
   "mimetype": "text/x-python",
   "name": "python",
   "nbconvert_exporter": "python",
   "pygments_lexer": "ipython3",
   "version": "3.12.2"
  }
 },
 "nbformat": 4,
 "nbformat_minor": 2
}
